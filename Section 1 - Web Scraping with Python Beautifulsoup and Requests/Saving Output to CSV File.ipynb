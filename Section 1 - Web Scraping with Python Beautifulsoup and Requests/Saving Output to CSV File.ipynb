{
 "cells": [
  {
   "cell_type": "code",
   "execution_count": 1,
   "metadata": {},
   "outputs": [],
   "source": [
    "from bs4 import BeautifulSoup\n",
    "import requests\n",
    "import pandas as pd"
   ]
  },
  {
   "cell_type": "code",
   "execution_count": 2,
   "metadata": {},
   "outputs": [],
   "source": [
    "url = \"https://www.britannica.com/topic/Wikipedia\""
   ]
  },
  {
   "cell_type": "code",
   "execution_count": 3,
   "metadata": {},
   "outputs": [
    {
     "name": "stdout",
     "output_type": "stream",
     "text": [
      "{'key': 'value'}\n"
     ]
    }
   ],
   "source": [
    "d = {\"key\": 'value'}\n",
    "print(d)"
   ]
  },
  {
   "cell_type": "code",
   "execution_count": 4,
   "metadata": {},
   "outputs": [
    {
     "data": {
      "text/plain": [
       "{'key': 'value', 'new key': 'new value'}"
      ]
     },
     "execution_count": 4,
     "metadata": {},
     "output_type": "execute_result"
    }
   ],
   "source": [
    "d[\"new key\"] = 'new value'\n",
    "d"
   ]
  },
  {
   "cell_type": "code",
   "execution_count": 9,
   "metadata": {},
   "outputs": [
    {
     "name": "stdout",
     "output_type": "stream",
     "text": [
      "Total Jobs: 0\n"
     ]
    }
   ],
   "source": [
    "npo_jobs = {}\n",
    "job_no = 0\n",
    "\n",
    "while True:\n",
    "\n",
    "    response = requests.get(url)\n",
    "    data = response.text\n",
    "    soup = BeautifulSoup(data, \"html.parser\")\n",
    "    jobs = soup.find_all(\"p\", {\"class\": \"result-info\"})\n",
    "\n",
    "\n",
    "    for job in jobs:\n",
    "        title = job.find('a', {'class': 'result-title'}).text\n",
    "        location_tag = job.find('span', {'class': 'result-hood'})\n",
    "        location = location_tag.text[2: -1] if location_tag else \"N/A\"\n",
    "        date = job.find('time', {'class': 'result-date'}).text\n",
    "        link = job.find('a', {'class': \"result-title\"}).get(\"href\")\n",
    "        job_response = requests.get(link)\n",
    "        job_data = job_response.text\n",
    "        job_soup = BeautifulSoup(job_data, 'html.parser')\n",
    "        job_description = job_soup.fing('section', {'id': \"postingbody\"}).text\n",
    "        job_attributes_tag = job_soup.find(\"p\", {\"class\": \"attrgroup\"})\n",
    "        job_attributes = job_attributes_tag.text if job_attributes_tag else \"N/A\"\n",
    "\n",
    "        job_no += 1\n",
    "        npo_jobs[job_no] = [title, location, date, link, job_attributes, job_description]\n",
    "\n",
    "\n",
    "        print(\"Job Title:\", title, \"\\nLocation:\", location, \"\\nDate:\", date, \"\\nLink:\", link, \"\\n\", job_attributes, \"\\nJob Dscription\", job_description)\n",
    "\n",
    "    \n",
    "    url_tag = soup.find(\"a\", {\"title\": \"next page\"})\n",
    "    if url_tag is not None and url_tag.get(\"href\"):\n",
    "        url = \"https://www.britannica.com/topic/Wikipedia\" + url_tag.get(\"href\")\n",
    "        print(url)\n",
    "    else:\n",
    "        break\n",
    "\n",
    "print(\"Total Jobs:\", job_no)\n",
    "npo_jobs_df = pd.DataFrame.from_dict(npo_jobs, orient= \"index\", columns= ['Job Title', 'Location', 'Date', 'Link', 'Job attributes', 'Job Description'])"
   ]
  },
  {
   "cell_type": "code",
   "execution_count": 10,
   "metadata": {},
   "outputs": [
    {
     "data": {
      "text/html": [
       "<div>\n",
       "<style scoped>\n",
       "    .dataframe tbody tr th:only-of-type {\n",
       "        vertical-align: middle;\n",
       "    }\n",
       "\n",
       "    .dataframe tbody tr th {\n",
       "        vertical-align: top;\n",
       "    }\n",
       "\n",
       "    .dataframe thead th {\n",
       "        text-align: right;\n",
       "    }\n",
       "</style>\n",
       "<table border=\"1\" class=\"dataframe\">\n",
       "  <thead>\n",
       "    <tr style=\"text-align: right;\">\n",
       "      <th></th>\n",
       "      <th>Job Title</th>\n",
       "      <th>Location</th>\n",
       "      <th>Date</th>\n",
       "      <th>Link</th>\n",
       "      <th>Job attributes</th>\n",
       "      <th>Job Description</th>\n",
       "    </tr>\n",
       "  </thead>\n",
       "  <tbody>\n",
       "  </tbody>\n",
       "</table>\n",
       "</div>"
      ],
      "text/plain": [
       "Empty DataFrame\n",
       "Columns: [Job Title, Location, Date, Link, Job attributes, Job Description]\n",
       "Index: []"
      ]
     },
     "execution_count": 10,
     "metadata": {},
     "output_type": "execute_result"
    }
   ],
   "source": [
    "npo_jobs_df.head()"
   ]
  },
  {
   "cell_type": "code",
   "execution_count": 11,
   "metadata": {},
   "outputs": [],
   "source": [
    "npo_jobs_df.to_csv('npo_jobs.csv')"
   ]
  },
  {
   "cell_type": "code",
   "execution_count": null,
   "metadata": {},
   "outputs": [],
   "source": []
  }
 ],
 "metadata": {
  "kernelspec": {
   "display_name": "web_scraping_venv",
   "language": "python",
   "name": "python3"
  },
  "language_info": {
   "codemirror_mode": {
    "name": "ipython",
    "version": 3
   },
   "file_extension": ".py",
   "mimetype": "text/x-python",
   "name": "python",
   "nbconvert_exporter": "python",
   "pygments_lexer": "ipython3",
   "version": "3.12.4"
  }
 },
 "nbformat": 4,
 "nbformat_minor": 2
}

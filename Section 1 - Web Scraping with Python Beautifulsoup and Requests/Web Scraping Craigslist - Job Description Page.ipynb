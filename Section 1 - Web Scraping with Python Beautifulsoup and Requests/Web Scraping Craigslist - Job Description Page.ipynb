{
 "cells": [
  {
   "cell_type": "code",
   "execution_count": 1,
   "metadata": {},
   "outputs": [],
   "source": [
    "from bs4 import BeautifulSoup\n",
    "import requests"
   ]
  },
  {
   "cell_type": "code",
   "execution_count": 2,
   "metadata": {},
   "outputs": [],
   "source": [
    "url = \"https://www.britannica.com/topic/Wikipedia\""
   ]
  },
  {
   "cell_type": "code",
   "execution_count": 3,
   "metadata": {},
   "outputs": [],
   "source": [
    "response = requests.get(url)"
   ]
  },
  {
   "cell_type": "code",
   "execution_count": 4,
   "metadata": {},
   "outputs": [
    {
     "data": {
      "text/plain": [
       "<Response [200]>"
      ]
     },
     "execution_count": 4,
     "metadata": {},
     "output_type": "execute_result"
    }
   ],
   "source": [
    "response"
   ]
  },
  {
   "cell_type": "code",
   "execution_count": 5,
   "metadata": {},
   "outputs": [],
   "source": [
    "data = response.text"
   ]
  },
  {
   "cell_type": "code",
   "execution_count": 6,
   "metadata": {},
   "outputs": [],
   "source": [
    "soup = BeautifulSoup(data,'html.parser')"
   ]
  },
  {
   "cell_type": "code",
   "execution_count": 7,
   "metadata": {},
   "outputs": [],
   "source": [
    "jobs = soup.find_all('p', {'class': 'result-info'})"
   ]
  },
  {
   "cell_type": "code",
   "execution_count": 9,
   "metadata": {},
   "outputs": [],
   "source": [
    "for job in jobs:\n",
    "    title = job.find('a', {'class': 'result-title'}).text\n",
    "    location_tag = job.find('span', {'class': 'result-hood'})\n",
    "    location = location_tag.text[2: -1] if location_tag else \"N/A\"\n",
    "    date = job.find('time', {'class': 'result-date'}).text\n",
    "    link = job.find('a', {'class': \"result-title\"}).get(\"href\")\n",
    "    job_response = requests.get(link)\n",
    "    job_data = job_response.text\n",
    "    job_soup = BeautifulSoup(job_data, 'html.parser')\n",
    "    job_description = job_soup.fing('section', {'id': \"postingbody\"}).text\n",
    "    job_attributes_tag = job_soup.find(\"p\", {\"class\": \"attrgroup\"})\n",
    "    job_attributes = job_attributes_tag.text if job_attributes_tag else \"N/A\"\n",
    "    print(\"Job Title:\", title, \"\\nLocation:\", location, \"\\nDate:\", date, \"\\nLink:\", link, \"\\n---\")"
   ]
  },
  {
   "cell_type": "code",
   "execution_count": null,
   "metadata": {},
   "outputs": [],
   "source": []
  }
 ],
 "metadata": {
  "kernelspec": {
   "display_name": "web_scraping_venv",
   "language": "python",
   "name": "python3"
  },
  "language_info": {
   "codemirror_mode": {
    "name": "ipython",
    "version": 3
   },
   "file_extension": ".py",
   "mimetype": "text/x-python",
   "name": "python",
   "nbconvert_exporter": "python",
   "pygments_lexer": "ipython3",
   "version": "3.12.4"
  }
 },
 "nbformat": 4,
 "nbformat_minor": 2
}
